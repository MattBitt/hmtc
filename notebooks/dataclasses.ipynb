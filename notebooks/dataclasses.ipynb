{
 "cells": [
  {
   "cell_type": "code",
   "execution_count": 7,
   "metadata": {},
   "outputs": [
    {
     "name": "stdout",
     "output_type": "stream",
     "text": [
      "{'name': 'Alice', 'age': 25}\n",
      "Key not found\n"
     ]
    }
   ],
   "source": [
    "import os\n",
    "import json\n",
    "from dataclasses import dataclass, asdict, field\n",
    "\n",
    "class JsonDatabase:\n",
    "    def __init__(self, db_path):\n",
    "        self.db_path = db_path\n",
    "        if not os.path.exists(db_path):\n",
    "            with open(db_path, \"w\") as db_file:\n",
    "                json.dump({}, db_file)\n",
    "\n",
    "    def read_db(self):\n",
    "        with open(self.db_path, \"r\") as db_file:\n",
    "            return json.load(db_file)\n",
    "\n",
    "    def write_db(self, data):\n",
    "        with open(self.db_path, \"w\") as db_file:\n",
    "            json.dump(data, db_file)\n",
    "\n",
    "    def insert(self, key, value):\n",
    "        data = self.read_db()\n",
    "        data[key] = value\n",
    "        self.write_db(data)\n",
    "\n",
    "    def retrieve(self, key):\n",
    "        data = self.read_db()\n",
    "        return data.get(key, \"Key not found\")\n",
    "\n",
    "    def delete(self, key):\n",
    "        data = self.read_db()\n",
    "        if key in data:\n",
    "            del data[key]\n",
    "            self.write_db(data)\n",
    "        else:\n",
    "            return \"Key not found\"\n",
    "\n",
    "\n",
    "class Animal:\n",
    "    pass\n",
    "\n",
    "@dataclass\n",
    "class Dog(Animal):\n",
    "    pass\n",
    "\n",
    "@dataclass\n",
    "class Cat(Animal):\n",
    "    pass\n",
    "\n",
    "db = JsonDatabase(\"database.json\")\n",
    "db.insert(\"user1\", {\"name\": \"Alice\", \"age\": 25})\n",
    "print(db.retrieve(\"user1\"))\n",
    "print(db.retrieve(\"Matt\"))"
   ]
  }
 ],
 "metadata": {
  "kernelspec": {
   "display_name": ".venv",
   "language": "python",
   "name": "python3"
  },
  "language_info": {
   "codemirror_mode": {
    "name": "ipython",
    "version": 3
   },
   "file_extension": ".py",
   "mimetype": "text/x-python",
   "name": "python",
   "nbconvert_exporter": "python",
   "pygments_lexer": "ipython3",
   "version": "3.12.3"
  }
 },
 "nbformat": 4,
 "nbformat_minor": 2
}
