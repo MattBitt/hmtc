{
 "cells": [
  {
   "cell_type": "code",
   "execution_count": 108,
   "metadata": {},
   "outputs": [
    {
     "name": "stderr",
     "output_type": "stream",
     "text": [
      "\u001b[32m2024-05-31 20:40:49.424\u001b[0m | \u001b[34m\u001b[1mDEBUG   \u001b[0m | \u001b[36m__main__\u001b[0m:\u001b[36mget_sections\u001b[0m:\u001b[36m37\u001b[0m - \u001b[34m\u001b[1mCalulated start and end rows for ID: 1 0,0\u001b[0m\n",
      "\u001b[32m2024-05-31 20:40:49.426\u001b[0m | \u001b[34m\u001b[1mDEBUG   \u001b[0m | \u001b[36m__main__\u001b[0m:\u001b[36mget_sections\u001b[0m:\u001b[36m39\u001b[0m - \u001b[34m\u001b[1mStart row and End Row are equal ID: 1 0,0\u001b[0m\n",
      "\u001b[32m2024-05-31 20:40:49.427\u001b[0m | \u001b[34m\u001b[1mDEBUG   \u001b[0m | \u001b[36m__main__\u001b[0m:\u001b[36mget_sections\u001b[0m:\u001b[36m37\u001b[0m - \u001b[34m\u001b[1mCalulated start and end rows for ID: 2 0,0\u001b[0m\n",
      "\u001b[32m2024-05-31 20:40:49.427\u001b[0m | \u001b[34m\u001b[1mDEBUG   \u001b[0m | \u001b[36m__main__\u001b[0m:\u001b[36mget_sections\u001b[0m:\u001b[36m39\u001b[0m - \u001b[34m\u001b[1mStart row and End Row are equal ID: 2 0,0\u001b[0m\n",
      "\u001b[32m2024-05-31 20:40:49.428\u001b[0m | \u001b[34m\u001b[1mDEBUG   \u001b[0m | \u001b[36m__main__\u001b[0m:\u001b[36mget_sections\u001b[0m:\u001b[36m37\u001b[0m - \u001b[34m\u001b[1mCalulated start and end rows for ID: 3 0,0\u001b[0m\n",
      "\u001b[32m2024-05-31 20:40:49.430\u001b[0m | \u001b[34m\u001b[1mDEBUG   \u001b[0m | \u001b[36m__main__\u001b[0m:\u001b[36mget_sections\u001b[0m:\u001b[36m39\u001b[0m - \u001b[34m\u001b[1mStart row and End Row are equal ID: 3 0,0\u001b[0m\n",
      "\u001b[32m2024-05-31 20:40:49.430\u001b[0m | \u001b[34m\u001b[1mDEBUG   \u001b[0m | \u001b[36m__main__\u001b[0m:\u001b[36mget_sections\u001b[0m:\u001b[36m37\u001b[0m - \u001b[34m\u001b[1mCalulated start and end rows for ID: 4 0,0\u001b[0m\n",
      "\u001b[32m2024-05-31 20:40:49.431\u001b[0m | \u001b[34m\u001b[1mDEBUG   \u001b[0m | \u001b[36m__main__\u001b[0m:\u001b[36mget_sections\u001b[0m:\u001b[36m39\u001b[0m - \u001b[34m\u001b[1mStart row and End Row are equal ID: 4 0,0\u001b[0m\n",
      "\u001b[32m2024-05-31 20:40:49.432\u001b[0m | \u001b[34m\u001b[1mDEBUG   \u001b[0m | \u001b[36m__main__\u001b[0m:\u001b[36mget_sections\u001b[0m:\u001b[36m37\u001b[0m - \u001b[34m\u001b[1mCalulated start and end rows for ID: 5 0,0\u001b[0m\n",
      "\u001b[32m2024-05-31 20:40:49.433\u001b[0m | \u001b[34m\u001b[1mDEBUG   \u001b[0m | \u001b[36m__main__\u001b[0m:\u001b[36mget_sections\u001b[0m:\u001b[36m39\u001b[0m - \u001b[34m\u001b[1mStart row and End Row are equal ID: 5 0,0\u001b[0m\n",
      "\u001b[32m2024-05-31 20:40:49.433\u001b[0m | \u001b[34m\u001b[1mDEBUG   \u001b[0m | \u001b[36m__main__\u001b[0m:\u001b[36mget_sections\u001b[0m:\u001b[36m37\u001b[0m - \u001b[34m\u001b[1mCalulated start and end rows for ID: 6 0,0\u001b[0m\n",
      "\u001b[32m2024-05-31 20:40:49.434\u001b[0m | \u001b[34m\u001b[1mDEBUG   \u001b[0m | \u001b[36m__main__\u001b[0m:\u001b[36mget_sections\u001b[0m:\u001b[36m39\u001b[0m - \u001b[34m\u001b[1mStart row and End Row are equal ID: 6 0,0\u001b[0m\n",
      "\u001b[32m2024-05-31 20:40:49.435\u001b[0m | \u001b[34m\u001b[1mDEBUG   \u001b[0m | \u001b[36m__main__\u001b[0m:\u001b[36mget_sections\u001b[0m:\u001b[36m37\u001b[0m - \u001b[34m\u001b[1mCalulated start and end rows for ID: 7 0,0\u001b[0m\n",
      "\u001b[32m2024-05-31 20:40:49.435\u001b[0m | \u001b[34m\u001b[1mDEBUG   \u001b[0m | \u001b[36m__main__\u001b[0m:\u001b[36mget_sections\u001b[0m:\u001b[36m39\u001b[0m - \u001b[34m\u001b[1mStart row and End Row are equal ID: 7 0,0\u001b[0m\n",
      "\u001b[32m2024-05-31 20:40:49.436\u001b[0m | \u001b[34m\u001b[1mDEBUG   \u001b[0m | \u001b[36m__main__\u001b[0m:\u001b[36mget_sections\u001b[0m:\u001b[36m37\u001b[0m - \u001b[34m\u001b[1mCalulated start and end rows for ID: 8 0,0\u001b[0m\n",
      "\u001b[32m2024-05-31 20:40:49.437\u001b[0m | \u001b[34m\u001b[1mDEBUG   \u001b[0m | \u001b[36m__main__\u001b[0m:\u001b[36mget_sections\u001b[0m:\u001b[36m39\u001b[0m - \u001b[34m\u001b[1mStart row and End Row are equal ID: 8 0,0\u001b[0m\n",
      "\u001b[32m2024-05-31 20:40:49.437\u001b[0m | \u001b[34m\u001b[1mDEBUG   \u001b[0m | \u001b[36m__main__\u001b[0m:\u001b[36mget_sections\u001b[0m:\u001b[36m37\u001b[0m - \u001b[34m\u001b[1mCalulated start and end rows for ID: 9 0,0\u001b[0m\n",
      "\u001b[32m2024-05-31 20:40:49.438\u001b[0m | \u001b[34m\u001b[1mDEBUG   \u001b[0m | \u001b[36m__main__\u001b[0m:\u001b[36mget_sections\u001b[0m:\u001b[36m39\u001b[0m - \u001b[34m\u001b[1mStart row and End Row are equal ID: 9 0,0\u001b[0m\n",
      "\u001b[32m2024-05-31 20:40:49.439\u001b[0m | \u001b[34m\u001b[1mDEBUG   \u001b[0m | \u001b[36m__main__\u001b[0m:\u001b[36mget_sections\u001b[0m:\u001b[36m37\u001b[0m - \u001b[34m\u001b[1mCalulated start and end rows for ID: 10 0,0\u001b[0m\n",
      "\u001b[32m2024-05-31 20:40:49.439\u001b[0m | \u001b[34m\u001b[1mDEBUG   \u001b[0m | \u001b[36m__main__\u001b[0m:\u001b[36mget_sections\u001b[0m:\u001b[36m39\u001b[0m - \u001b[34m\u001b[1mStart row and End Row are equal ID: 10 0,0\u001b[0m\n",
      "\u001b[32m2024-05-31 20:40:49.440\u001b[0m | \u001b[34m\u001b[1mDEBUG   \u001b[0m | \u001b[36m__main__\u001b[0m:\u001b[36mget_sections\u001b[0m:\u001b[36m37\u001b[0m - \u001b[34m\u001b[1mCalulated start and end rows for ID: 15 0,0\u001b[0m\n",
      "\u001b[32m2024-05-31 20:40:49.440\u001b[0m | \u001b[34m\u001b[1mDEBUG   \u001b[0m | \u001b[36m__main__\u001b[0m:\u001b[36mget_sections\u001b[0m:\u001b[36m39\u001b[0m - \u001b[34m\u001b[1mStart row and End Row are equal ID: 15 0,0\u001b[0m\n",
      "\u001b[32m2024-05-31 20:40:49.441\u001b[0m | \u001b[34m\u001b[1mDEBUG   \u001b[0m | \u001b[36m__main__\u001b[0m:\u001b[36mget_sections\u001b[0m:\u001b[36m37\u001b[0m - \u001b[34m\u001b[1mCalulated start and end rows for ID: 11 0,0\u001b[0m\n",
      "\u001b[32m2024-05-31 20:40:49.441\u001b[0m | \u001b[34m\u001b[1mDEBUG   \u001b[0m | \u001b[36m__main__\u001b[0m:\u001b[36mget_sections\u001b[0m:\u001b[36m39\u001b[0m - \u001b[34m\u001b[1mStart row and End Row are equal ID: 11 0,0\u001b[0m\n",
      "\u001b[32m2024-05-31 20:40:49.442\u001b[0m | \u001b[34m\u001b[1mDEBUG   \u001b[0m | \u001b[36m__main__\u001b[0m:\u001b[36mget_sections\u001b[0m:\u001b[36m37\u001b[0m - \u001b[34m\u001b[1mCalulated start and end rows for ID: 12 0,0\u001b[0m\n",
      "\u001b[32m2024-05-31 20:40:49.443\u001b[0m | \u001b[34m\u001b[1mDEBUG   \u001b[0m | \u001b[36m__main__\u001b[0m:\u001b[36mget_sections\u001b[0m:\u001b[36m39\u001b[0m - \u001b[34m\u001b[1mStart row and End Row are equal ID: 12 0,0\u001b[0m\n",
      "\u001b[32m2024-05-31 20:40:49.444\u001b[0m | \u001b[34m\u001b[1mDEBUG   \u001b[0m | \u001b[36m__main__\u001b[0m:\u001b[36mget_sections\u001b[0m:\u001b[36m37\u001b[0m - \u001b[34m\u001b[1mCalulated start and end rows for ID: 13 0,0\u001b[0m\n",
      "\u001b[32m2024-05-31 20:40:49.445\u001b[0m | \u001b[34m\u001b[1mDEBUG   \u001b[0m | \u001b[36m__main__\u001b[0m:\u001b[36mget_sections\u001b[0m:\u001b[36m39\u001b[0m - \u001b[34m\u001b[1mStart row and End Row are equal ID: 13 0,0\u001b[0m\n",
      "\u001b[32m2024-05-31 20:40:49.445\u001b[0m | \u001b[34m\u001b[1mDEBUG   \u001b[0m | \u001b[36m__main__\u001b[0m:\u001b[36mget_sections\u001b[0m:\u001b[36m37\u001b[0m - \u001b[34m\u001b[1mCalulated start and end rows for ID: 14 0,0\u001b[0m\n",
      "\u001b[32m2024-05-31 20:40:49.446\u001b[0m | \u001b[34m\u001b[1mDEBUG   \u001b[0m | \u001b[36m__main__\u001b[0m:\u001b[36mget_sections\u001b[0m:\u001b[36m39\u001b[0m - \u001b[34m\u001b[1mStart row and End Row are equal ID: 14 0,0\u001b[0m\n",
      "\u001b[32m2024-05-31 20:40:49.447\u001b[0m | \u001b[34m\u001b[1mDEBUG   \u001b[0m | \u001b[36m__main__\u001b[0m:\u001b[36mget_sections\u001b[0m:\u001b[36m37\u001b[0m - \u001b[34m\u001b[1mCalulated start and end rows for ID: 16 0,0\u001b[0m\n",
      "\u001b[32m2024-05-31 20:40:49.447\u001b[0m | \u001b[34m\u001b[1mDEBUG   \u001b[0m | \u001b[36m__main__\u001b[0m:\u001b[36mget_sections\u001b[0m:\u001b[36m39\u001b[0m - \u001b[34m\u001b[1mStart row and End Row are equal ID: 16 0,0\u001b[0m\n",
      "\u001b[32m2024-05-31 20:40:49.448\u001b[0m | \u001b[34m\u001b[1mDEBUG   \u001b[0m | \u001b[36m__main__\u001b[0m:\u001b[36mget_sections\u001b[0m:\u001b[36m37\u001b[0m - \u001b[34m\u001b[1mCalulated start and end rows for ID: 17 0,0\u001b[0m\n",
      "\u001b[32m2024-05-31 20:40:49.448\u001b[0m | \u001b[34m\u001b[1mDEBUG   \u001b[0m | \u001b[36m__main__\u001b[0m:\u001b[36mget_sections\u001b[0m:\u001b[36m39\u001b[0m - \u001b[34m\u001b[1mStart row and End Row are equal ID: 17 0,0\u001b[0m\n",
      "\u001b[32m2024-05-31 20:40:49.452\u001b[0m | \u001b[34m\u001b[1mDEBUG   \u001b[0m | \u001b[36m__main__\u001b[0m:\u001b[36mget_sections\u001b[0m:\u001b[36m37\u001b[0m - \u001b[34m\u001b[1mCalulated start and end rows for ID: 18 0,0\u001b[0m\n",
      "\u001b[32m2024-05-31 20:40:49.453\u001b[0m | \u001b[34m\u001b[1mDEBUG   \u001b[0m | \u001b[36m__main__\u001b[0m:\u001b[36mget_sections\u001b[0m:\u001b[36m39\u001b[0m - \u001b[34m\u001b[1mStart row and End Row are equal ID: 18 0,0\u001b[0m\n",
      "\u001b[32m2024-05-31 20:40:49.454\u001b[0m | \u001b[34m\u001b[1mDEBUG   \u001b[0m | \u001b[36m__main__\u001b[0m:\u001b[36mget_sections\u001b[0m:\u001b[36m37\u001b[0m - \u001b[34m\u001b[1mCalulated start and end rows for ID: 19 1,1\u001b[0m\n",
      "\u001b[32m2024-05-31 20:40:49.455\u001b[0m | \u001b[34m\u001b[1mDEBUG   \u001b[0m | \u001b[36m__main__\u001b[0m:\u001b[36mget_sections\u001b[0m:\u001b[36m39\u001b[0m - \u001b[34m\u001b[1mStart row and End Row are equal ID: 19 1,1\u001b[0m\n"
     ]
    },
    {
     "data": {
      "application/vnd.plotly.v1+json": {
       "config": {
        "plotlyServerURL": "https://plot.ly"
       },
       "data": [
        {
         "alignmentgroup": "True",
         "base": [
          "1970-01-01T00:00:00",
          "1970-01-01T00:00:30",
          "1970-01-01T00:02:30",
          "1970-01-01T00:03:00",
          "1970-01-01T00:03:30",
          "1970-01-01T00:04:20",
          "1970-01-01T00:05:40",
          "1970-01-01T00:08:20",
          "1970-01-01T00:08:30",
          "1970-01-01T00:10:40",
          "1970-01-01T00:11:40",
          "1970-01-01T00:14:09",
          "1970-01-01T00:16:16",
          "1970-01-01T00:16:40",
          "1970-01-01T00:19:28",
          "1970-01-01T00:04:40",
          "1970-01-01T00:09:20",
          "1970-01-01T00:14:50",
          "1970-01-01T00:08:14"
         ],
         "customdata": [
          [
           "00:00 (0)",
           "00:30 (30)",
           1,
           30,
           0,
           30
          ],
          [
           "00:30 (30)",
           "02:30 (150)",
           2,
           120,
           30,
           150
          ],
          [
           "02:30 (150)",
           "03:00 (180)",
           3,
           30,
           150,
           180
          ],
          [
           "03:00 (180)",
           "03:30 (210)",
           4,
           30,
           180,
           210
          ],
          [
           "03:30 (210)",
           "04:20 (260)",
           5,
           50,
           210,
           260
          ],
          [
           "04:20 (260)",
           "04:40 (280)",
           6,
           20,
           260,
           280
          ],
          [
           "05:40 (340)",
           "08:20 (500)",
           7,
           160,
           340,
           500
          ],
          [
           "08:20 (500)",
           "08:30 (510)",
           8,
           10,
           500,
           510
          ],
          [
           "08:30 (510)",
           "09:20 (560)",
           9,
           50,
           510,
           560
          ],
          [
           "10:40 (640)",
           "11:40 (700)",
           10,
           60,
           640,
           700
          ],
          [
           "11:40 (700)",
           "14:09 (849)",
           15,
           149,
           700,
           849
          ],
          [
           "14:09 (849)",
           "14:50 (890)",
           11,
           41,
           849,
           890
          ],
          [
           "16:16 (976)",
           "16:40 (1000)",
           12,
           24,
           976,
           1000
          ],
          [
           "16:40 (1000)",
           "19:28 (1168)",
           13,
           168,
           1000,
           1168
          ],
          [
           "19:28 (1168)",
           "19:59 (1199)",
           14,
           31,
           1168,
           1199
          ],
          [
           "04:40 (280)",
           "05:40 (340)",
           16,
           60,
           280,
           340
          ],
          [
           "09:20 (560)",
           "10:40 (640)",
           17,
           80,
           560,
           640
          ],
          [
           "14:50 (890)",
           "16:16 (976)",
           18,
           86,
           890,
           976
          ],
          [
           "38:14 (2294)",
           "41:50 (2510)",
           19,
           216,
           2294,
           2510
          ]
         ],
         "hovertemplate": "<b>%{hovertext}</b><br><br>start_string=%{customdata[0]}<br>end_string=%{customdata[1]}<br>duration=%{marker.color}<extra></extra>",
         "hovertext": [
          1,
          2,
          3,
          4,
          5,
          6,
          7,
          8,
          9,
          10,
          15,
          11,
          12,
          13,
          14,
          16,
          17,
          18,
          19
         ],
         "legendgroup": "",
         "marker": {
          "color": [
           30,
           120,
           30,
           30,
           50,
           20,
           160,
           10,
           50,
           60,
           149,
           41,
           24,
           168,
           31,
           60,
           80,
           86,
           216
          ],
          "coloraxis": "coloraxis",
          "pattern": {
           "shape": ""
          }
         },
         "name": "",
         "offsetgroup": "",
         "orientation": "h",
         "showlegend": false,
         "textposition": "auto",
         "type": "bar",
         "x": [
          30000,
          120000,
          30000,
          30000,
          50000,
          20000,
          160000,
          10000,
          50000,
          60000,
          149000,
          41000,
          24000,
          168000,
          31000,
          60000,
          80000,
          86000,
          216000
         ],
         "xaxis": "x",
         "y": [
          0,
          0,
          0,
          0,
          0,
          0,
          0,
          0,
          0,
          0,
          0,
          0,
          0,
          0,
          0,
          0,
          0,
          0,
          -1
         ],
         "yaxis": "y"
        }
       ],
       "layout": {
        "barmode": "overlay",
        "coloraxis": {
         "colorbar": {
          "title": {
           "text": "duration"
          }
         },
         "colorscale": [
          [
           0,
           "#0d0887"
          ],
          [
           0.1111111111111111,
           "#46039f"
          ],
          [
           0.2222222222222222,
           "#7201a8"
          ],
          [
           0.3333333333333333,
           "#9c179e"
          ],
          [
           0.4444444444444444,
           "#bd3786"
          ],
          [
           0.5555555555555556,
           "#d8576b"
          ],
          [
           0.6666666666666666,
           "#ed7953"
          ],
          [
           0.7777777777777778,
           "#fb9f3a"
          ],
          [
           0.8888888888888888,
           "#fdca26"
          ],
          [
           1,
           "#f0f921"
          ]
         ]
        },
        "legend": {
         "tracegroupgap": 0
        },
        "margin": {
         "t": 60
        },
        "template": {
         "data": {
          "bar": [
           {
            "error_x": {
             "color": "#2a3f5f"
            },
            "error_y": {
             "color": "#2a3f5f"
            },
            "marker": {
             "line": {
              "color": "#E5ECF6",
              "width": 0.5
             },
             "pattern": {
              "fillmode": "overlay",
              "size": 10,
              "solidity": 0.2
             }
            },
            "type": "bar"
           }
          ],
          "barpolar": [
           {
            "marker": {
             "line": {
              "color": "#E5ECF6",
              "width": 0.5
             },
             "pattern": {
              "fillmode": "overlay",
              "size": 10,
              "solidity": 0.2
             }
            },
            "type": "barpolar"
           }
          ],
          "carpet": [
           {
            "aaxis": {
             "endlinecolor": "#2a3f5f",
             "gridcolor": "white",
             "linecolor": "white",
             "minorgridcolor": "white",
             "startlinecolor": "#2a3f5f"
            },
            "baxis": {
             "endlinecolor": "#2a3f5f",
             "gridcolor": "white",
             "linecolor": "white",
             "minorgridcolor": "white",
             "startlinecolor": "#2a3f5f"
            },
            "type": "carpet"
           }
          ],
          "choropleth": [
           {
            "colorbar": {
             "outlinewidth": 0,
             "ticks": ""
            },
            "type": "choropleth"
           }
          ],
          "contour": [
           {
            "colorbar": {
             "outlinewidth": 0,
             "ticks": ""
            },
            "colorscale": [
             [
              0,
              "#0d0887"
             ],
             [
              0.1111111111111111,
              "#46039f"
             ],
             [
              0.2222222222222222,
              "#7201a8"
             ],
             [
              0.3333333333333333,
              "#9c179e"
             ],
             [
              0.4444444444444444,
              "#bd3786"
             ],
             [
              0.5555555555555556,
              "#d8576b"
             ],
             [
              0.6666666666666666,
              "#ed7953"
             ],
             [
              0.7777777777777778,
              "#fb9f3a"
             ],
             [
              0.8888888888888888,
              "#fdca26"
             ],
             [
              1,
              "#f0f921"
             ]
            ],
            "type": "contour"
           }
          ],
          "contourcarpet": [
           {
            "colorbar": {
             "outlinewidth": 0,
             "ticks": ""
            },
            "type": "contourcarpet"
           }
          ],
          "heatmap": [
           {
            "colorbar": {
             "outlinewidth": 0,
             "ticks": ""
            },
            "colorscale": [
             [
              0,
              "#0d0887"
             ],
             [
              0.1111111111111111,
              "#46039f"
             ],
             [
              0.2222222222222222,
              "#7201a8"
             ],
             [
              0.3333333333333333,
              "#9c179e"
             ],
             [
              0.4444444444444444,
              "#bd3786"
             ],
             [
              0.5555555555555556,
              "#d8576b"
             ],
             [
              0.6666666666666666,
              "#ed7953"
             ],
             [
              0.7777777777777778,
              "#fb9f3a"
             ],
             [
              0.8888888888888888,
              "#fdca26"
             ],
             [
              1,
              "#f0f921"
             ]
            ],
            "type": "heatmap"
           }
          ],
          "heatmapgl": [
           {
            "colorbar": {
             "outlinewidth": 0,
             "ticks": ""
            },
            "colorscale": [
             [
              0,
              "#0d0887"
             ],
             [
              0.1111111111111111,
              "#46039f"
             ],
             [
              0.2222222222222222,
              "#7201a8"
             ],
             [
              0.3333333333333333,
              "#9c179e"
             ],
             [
              0.4444444444444444,
              "#bd3786"
             ],
             [
              0.5555555555555556,
              "#d8576b"
             ],
             [
              0.6666666666666666,
              "#ed7953"
             ],
             [
              0.7777777777777778,
              "#fb9f3a"
             ],
             [
              0.8888888888888888,
              "#fdca26"
             ],
             [
              1,
              "#f0f921"
             ]
            ],
            "type": "heatmapgl"
           }
          ],
          "histogram": [
           {
            "marker": {
             "pattern": {
              "fillmode": "overlay",
              "size": 10,
              "solidity": 0.2
             }
            },
            "type": "histogram"
           }
          ],
          "histogram2d": [
           {
            "colorbar": {
             "outlinewidth": 0,
             "ticks": ""
            },
            "colorscale": [
             [
              0,
              "#0d0887"
             ],
             [
              0.1111111111111111,
              "#46039f"
             ],
             [
              0.2222222222222222,
              "#7201a8"
             ],
             [
              0.3333333333333333,
              "#9c179e"
             ],
             [
              0.4444444444444444,
              "#bd3786"
             ],
             [
              0.5555555555555556,
              "#d8576b"
             ],
             [
              0.6666666666666666,
              "#ed7953"
             ],
             [
              0.7777777777777778,
              "#fb9f3a"
             ],
             [
              0.8888888888888888,
              "#fdca26"
             ],
             [
              1,
              "#f0f921"
             ]
            ],
            "type": "histogram2d"
           }
          ],
          "histogram2dcontour": [
           {
            "colorbar": {
             "outlinewidth": 0,
             "ticks": ""
            },
            "colorscale": [
             [
              0,
              "#0d0887"
             ],
             [
              0.1111111111111111,
              "#46039f"
             ],
             [
              0.2222222222222222,
              "#7201a8"
             ],
             [
              0.3333333333333333,
              "#9c179e"
             ],
             [
              0.4444444444444444,
              "#bd3786"
             ],
             [
              0.5555555555555556,
              "#d8576b"
             ],
             [
              0.6666666666666666,
              "#ed7953"
             ],
             [
              0.7777777777777778,
              "#fb9f3a"
             ],
             [
              0.8888888888888888,
              "#fdca26"
             ],
             [
              1,
              "#f0f921"
             ]
            ],
            "type": "histogram2dcontour"
           }
          ],
          "mesh3d": [
           {
            "colorbar": {
             "outlinewidth": 0,
             "ticks": ""
            },
            "type": "mesh3d"
           }
          ],
          "parcoords": [
           {
            "line": {
             "colorbar": {
              "outlinewidth": 0,
              "ticks": ""
             }
            },
            "type": "parcoords"
           }
          ],
          "pie": [
           {
            "automargin": true,
            "type": "pie"
           }
          ],
          "scatter": [
           {
            "fillpattern": {
             "fillmode": "overlay",
             "size": 10,
             "solidity": 0.2
            },
            "type": "scatter"
           }
          ],
          "scatter3d": [
           {
            "line": {
             "colorbar": {
              "outlinewidth": 0,
              "ticks": ""
             }
            },
            "marker": {
             "colorbar": {
              "outlinewidth": 0,
              "ticks": ""
             }
            },
            "type": "scatter3d"
           }
          ],
          "scattercarpet": [
           {
            "marker": {
             "colorbar": {
              "outlinewidth": 0,
              "ticks": ""
             }
            },
            "type": "scattercarpet"
           }
          ],
          "scattergeo": [
           {
            "marker": {
             "colorbar": {
              "outlinewidth": 0,
              "ticks": ""
             }
            },
            "type": "scattergeo"
           }
          ],
          "scattergl": [
           {
            "marker": {
             "colorbar": {
              "outlinewidth": 0,
              "ticks": ""
             }
            },
            "type": "scattergl"
           }
          ],
          "scattermapbox": [
           {
            "marker": {
             "colorbar": {
              "outlinewidth": 0,
              "ticks": ""
             }
            },
            "type": "scattermapbox"
           }
          ],
          "scatterpolar": [
           {
            "marker": {
             "colorbar": {
              "outlinewidth": 0,
              "ticks": ""
             }
            },
            "type": "scatterpolar"
           }
          ],
          "scatterpolargl": [
           {
            "marker": {
             "colorbar": {
              "outlinewidth": 0,
              "ticks": ""
             }
            },
            "type": "scatterpolargl"
           }
          ],
          "scatterternary": [
           {
            "marker": {
             "colorbar": {
              "outlinewidth": 0,
              "ticks": ""
             }
            },
            "type": "scatterternary"
           }
          ],
          "surface": [
           {
            "colorbar": {
             "outlinewidth": 0,
             "ticks": ""
            },
            "colorscale": [
             [
              0,
              "#0d0887"
             ],
             [
              0.1111111111111111,
              "#46039f"
             ],
             [
              0.2222222222222222,
              "#7201a8"
             ],
             [
              0.3333333333333333,
              "#9c179e"
             ],
             [
              0.4444444444444444,
              "#bd3786"
             ],
             [
              0.5555555555555556,
              "#d8576b"
             ],
             [
              0.6666666666666666,
              "#ed7953"
             ],
             [
              0.7777777777777778,
              "#fb9f3a"
             ],
             [
              0.8888888888888888,
              "#fdca26"
             ],
             [
              1,
              "#f0f921"
             ]
            ],
            "type": "surface"
           }
          ],
          "table": [
           {
            "cells": {
             "fill": {
              "color": "#EBF0F8"
             },
             "line": {
              "color": "white"
             }
            },
            "header": {
             "fill": {
              "color": "#C8D4E3"
             },
             "line": {
              "color": "white"
             }
            },
            "type": "table"
           }
          ]
         },
         "layout": {
          "annotationdefaults": {
           "arrowcolor": "#2a3f5f",
           "arrowhead": 0,
           "arrowwidth": 1
          },
          "autotypenumbers": "strict",
          "coloraxis": {
           "colorbar": {
            "outlinewidth": 0,
            "ticks": ""
           }
          },
          "colorscale": {
           "diverging": [
            [
             0,
             "#8e0152"
            ],
            [
             0.1,
             "#c51b7d"
            ],
            [
             0.2,
             "#de77ae"
            ],
            [
             0.3,
             "#f1b6da"
            ],
            [
             0.4,
             "#fde0ef"
            ],
            [
             0.5,
             "#f7f7f7"
            ],
            [
             0.6,
             "#e6f5d0"
            ],
            [
             0.7,
             "#b8e186"
            ],
            [
             0.8,
             "#7fbc41"
            ],
            [
             0.9,
             "#4d9221"
            ],
            [
             1,
             "#276419"
            ]
           ],
           "sequential": [
            [
             0,
             "#0d0887"
            ],
            [
             0.1111111111111111,
             "#46039f"
            ],
            [
             0.2222222222222222,
             "#7201a8"
            ],
            [
             0.3333333333333333,
             "#9c179e"
            ],
            [
             0.4444444444444444,
             "#bd3786"
            ],
            [
             0.5555555555555556,
             "#d8576b"
            ],
            [
             0.6666666666666666,
             "#ed7953"
            ],
            [
             0.7777777777777778,
             "#fb9f3a"
            ],
            [
             0.8888888888888888,
             "#fdca26"
            ],
            [
             1,
             "#f0f921"
            ]
           ],
           "sequentialminus": [
            [
             0,
             "#0d0887"
            ],
            [
             0.1111111111111111,
             "#46039f"
            ],
            [
             0.2222222222222222,
             "#7201a8"
            ],
            [
             0.3333333333333333,
             "#9c179e"
            ],
            [
             0.4444444444444444,
             "#bd3786"
            ],
            [
             0.5555555555555556,
             "#d8576b"
            ],
            [
             0.6666666666666666,
             "#ed7953"
            ],
            [
             0.7777777777777778,
             "#fb9f3a"
            ],
            [
             0.8888888888888888,
             "#fdca26"
            ],
            [
             1,
             "#f0f921"
            ]
           ]
          },
          "colorway": [
           "#636efa",
           "#EF553B",
           "#00cc96",
           "#ab63fa",
           "#FFA15A",
           "#19d3f3",
           "#FF6692",
           "#B6E880",
           "#FF97FF",
           "#FECB52"
          ],
          "font": {
           "color": "#2a3f5f"
          },
          "geo": {
           "bgcolor": "white",
           "lakecolor": "white",
           "landcolor": "#E5ECF6",
           "showlakes": true,
           "showland": true,
           "subunitcolor": "white"
          },
          "hoverlabel": {
           "align": "left"
          },
          "hovermode": "closest",
          "mapbox": {
           "style": "light"
          },
          "paper_bgcolor": "white",
          "plot_bgcolor": "#E5ECF6",
          "polar": {
           "angularaxis": {
            "gridcolor": "white",
            "linecolor": "white",
            "ticks": ""
           },
           "bgcolor": "#E5ECF6",
           "radialaxis": {
            "gridcolor": "white",
            "linecolor": "white",
            "ticks": ""
           }
          },
          "scene": {
           "xaxis": {
            "backgroundcolor": "#E5ECF6",
            "gridcolor": "white",
            "gridwidth": 2,
            "linecolor": "white",
            "showbackground": true,
            "ticks": "",
            "zerolinecolor": "white"
           },
           "yaxis": {
            "backgroundcolor": "#E5ECF6",
            "gridcolor": "white",
            "gridwidth": 2,
            "linecolor": "white",
            "showbackground": true,
            "ticks": "",
            "zerolinecolor": "white"
           },
           "zaxis": {
            "backgroundcolor": "#E5ECF6",
            "gridcolor": "white",
            "gridwidth": 2,
            "linecolor": "white",
            "showbackground": true,
            "ticks": "",
            "zerolinecolor": "white"
           }
          },
          "shapedefaults": {
           "line": {
            "color": "#2a3f5f"
           }
          },
          "ternary": {
           "aaxis": {
            "gridcolor": "white",
            "linecolor": "white",
            "ticks": ""
           },
           "baxis": {
            "gridcolor": "white",
            "linecolor": "white",
            "ticks": ""
           },
           "bgcolor": "#E5ECF6",
           "caxis": {
            "gridcolor": "white",
            "linecolor": "white",
            "ticks": ""
           }
          },
          "title": {
           "x": 0.05
          },
          "xaxis": {
           "automargin": true,
           "gridcolor": "white",
           "linecolor": "white",
           "ticks": "",
           "title": {
            "standoff": 15
           },
           "zerolinecolor": "white",
           "zerolinewidth": 2
          },
          "yaxis": {
           "automargin": true,
           "gridcolor": "white",
           "linecolor": "white",
           "ticks": "",
           "title": {
            "standoff": 15
           },
           "zerolinecolor": "white",
           "zerolinewidth": 2
          }
         }
        },
        "xaxis": {
         "anchor": "y",
         "domain": [
          0,
          1
         ],
         "range": [
          "1970-01-01T00:00:00",
          "1970-01-01T00:30:00"
         ],
         "type": "date"
        },
        "yaxis": {
         "anchor": "x",
         "domain": [
          0,
          1
         ],
         "title": {
          "text": "hour"
         }
        }
       }
      },
      "text/html": [
       "<div>                            <div id=\"22c76549-fe74-4b58-856b-a9fa938bfeb1\" class=\"plotly-graph-div\" style=\"height:525px; width:100%;\"></div>            <script type=\"text/javascript\">                require([\"plotly\"], function(Plotly) {                    window.PLOTLYENV=window.PLOTLYENV || {};                                    if (document.getElementById(\"22c76549-fe74-4b58-856b-a9fa938bfeb1\")) {                    Plotly.newPlot(                        \"22c76549-fe74-4b58-856b-a9fa938bfeb1\",                        [{\"alignmentgroup\":\"True\",\"base\":[\"1970-01-01T00:00:00\",\"1970-01-01T00:00:30\",\"1970-01-01T00:02:30\",\"1970-01-01T00:03:00\",\"1970-01-01T00:03:30\",\"1970-01-01T00:04:20\",\"1970-01-01T00:05:40\",\"1970-01-01T00:08:20\",\"1970-01-01T00:08:30\",\"1970-01-01T00:10:40\",\"1970-01-01T00:11:40\",\"1970-01-01T00:14:09\",\"1970-01-01T00:16:16\",\"1970-01-01T00:16:40\",\"1970-01-01T00:19:28\",\"1970-01-01T00:04:40\",\"1970-01-01T00:09:20\",\"1970-01-01T00:14:50\",\"1970-01-01T00:08:14\"],\"customdata\":[[\"00:00 (0)\",\"00:30 (30)\",1,30,0,30],[\"00:30 (30)\",\"02:30 (150)\",2,120,30,150],[\"02:30 (150)\",\"03:00 (180)\",3,30,150,180],[\"03:00 (180)\",\"03:30 (210)\",4,30,180,210],[\"03:30 (210)\",\"04:20 (260)\",5,50,210,260],[\"04:20 (260)\",\"04:40 (280)\",6,20,260,280],[\"05:40 (340)\",\"08:20 (500)\",7,160,340,500],[\"08:20 (500)\",\"08:30 (510)\",8,10,500,510],[\"08:30 (510)\",\"09:20 (560)\",9,50,510,560],[\"10:40 (640)\",\"11:40 (700)\",10,60,640,700],[\"11:40 (700)\",\"14:09 (849)\",15,149,700,849],[\"14:09 (849)\",\"14:50 (890)\",11,41,849,890],[\"16:16 (976)\",\"16:40 (1000)\",12,24,976,1000],[\"16:40 (1000)\",\"19:28 (1168)\",13,168,1000,1168],[\"19:28 (1168)\",\"19:59 (1199)\",14,31,1168,1199],[\"04:40 (280)\",\"05:40 (340)\",16,60,280,340],[\"09:20 (560)\",\"10:40 (640)\",17,80,560,640],[\"14:50 (890)\",\"16:16 (976)\",18,86,890,976],[\"38:14 (2294)\",\"41:50 (2510)\",19,216,2294,2510]],\"hovertemplate\":\"\\u003cb\\u003e%{hovertext}\\u003c\\u002fb\\u003e\\u003cbr\\u003e\\u003cbr\\u003estart_string=%{customdata[0]}\\u003cbr\\u003eend_string=%{customdata[1]}\\u003cbr\\u003eduration=%{marker.color}\\u003cextra\\u003e\\u003c\\u002fextra\\u003e\",\"hovertext\":[1.0,2.0,3.0,4.0,5.0,6.0,7.0,8.0,9.0,10.0,15.0,11.0,12.0,13.0,14.0,16.0,17.0,18.0,19.0],\"legendgroup\":\"\",\"marker\":{\"color\":[30,120,30,30,50,20,160,10,50,60,149,41,24,168,31,60,80,86,216],\"coloraxis\":\"coloraxis\",\"pattern\":{\"shape\":\"\"}},\"name\":\"\",\"offsetgroup\":\"\",\"orientation\":\"h\",\"showlegend\":false,\"textposition\":\"auto\",\"x\":[30000.0,120000.0,30000.0,30000.0,50000.0,20000.0,160000.0,10000.0,50000.0,60000.0,149000.0,41000.0,24000.0,168000.0,31000.0,60000.0,80000.0,86000.0,216000.0],\"xaxis\":\"x\",\"y\":[0,0,0,0,0,0,0,0,0,0,0,0,0,0,0,0,0,0,-1],\"yaxis\":\"y\",\"type\":\"bar\"}],                        {\"template\":{\"data\":{\"histogram2dcontour\":[{\"type\":\"histogram2dcontour\",\"colorbar\":{\"outlinewidth\":0,\"ticks\":\"\"},\"colorscale\":[[0.0,\"#0d0887\"],[0.1111111111111111,\"#46039f\"],[0.2222222222222222,\"#7201a8\"],[0.3333333333333333,\"#9c179e\"],[0.4444444444444444,\"#bd3786\"],[0.5555555555555556,\"#d8576b\"],[0.6666666666666666,\"#ed7953\"],[0.7777777777777778,\"#fb9f3a\"],[0.8888888888888888,\"#fdca26\"],[1.0,\"#f0f921\"]]}],\"choropleth\":[{\"type\":\"choropleth\",\"colorbar\":{\"outlinewidth\":0,\"ticks\":\"\"}}],\"histogram2d\":[{\"type\":\"histogram2d\",\"colorbar\":{\"outlinewidth\":0,\"ticks\":\"\"},\"colorscale\":[[0.0,\"#0d0887\"],[0.1111111111111111,\"#46039f\"],[0.2222222222222222,\"#7201a8\"],[0.3333333333333333,\"#9c179e\"],[0.4444444444444444,\"#bd3786\"],[0.5555555555555556,\"#d8576b\"],[0.6666666666666666,\"#ed7953\"],[0.7777777777777778,\"#fb9f3a\"],[0.8888888888888888,\"#fdca26\"],[1.0,\"#f0f921\"]]}],\"heatmap\":[{\"type\":\"heatmap\",\"colorbar\":{\"outlinewidth\":0,\"ticks\":\"\"},\"colorscale\":[[0.0,\"#0d0887\"],[0.1111111111111111,\"#46039f\"],[0.2222222222222222,\"#7201a8\"],[0.3333333333333333,\"#9c179e\"],[0.4444444444444444,\"#bd3786\"],[0.5555555555555556,\"#d8576b\"],[0.6666666666666666,\"#ed7953\"],[0.7777777777777778,\"#fb9f3a\"],[0.8888888888888888,\"#fdca26\"],[1.0,\"#f0f921\"]]}],\"heatmapgl\":[{\"type\":\"heatmapgl\",\"colorbar\":{\"outlinewidth\":0,\"ticks\":\"\"},\"colorscale\":[[0.0,\"#0d0887\"],[0.1111111111111111,\"#46039f\"],[0.2222222222222222,\"#7201a8\"],[0.3333333333333333,\"#9c179e\"],[0.4444444444444444,\"#bd3786\"],[0.5555555555555556,\"#d8576b\"],[0.6666666666666666,\"#ed7953\"],[0.7777777777777778,\"#fb9f3a\"],[0.8888888888888888,\"#fdca26\"],[1.0,\"#f0f921\"]]}],\"contourcarpet\":[{\"type\":\"contourcarpet\",\"colorbar\":{\"outlinewidth\":0,\"ticks\":\"\"}}],\"contour\":[{\"type\":\"contour\",\"colorbar\":{\"outlinewidth\":0,\"ticks\":\"\"},\"colorscale\":[[0.0,\"#0d0887\"],[0.1111111111111111,\"#46039f\"],[0.2222222222222222,\"#7201a8\"],[0.3333333333333333,\"#9c179e\"],[0.4444444444444444,\"#bd3786\"],[0.5555555555555556,\"#d8576b\"],[0.6666666666666666,\"#ed7953\"],[0.7777777777777778,\"#fb9f3a\"],[0.8888888888888888,\"#fdca26\"],[1.0,\"#f0f921\"]]}],\"surface\":[{\"type\":\"surface\",\"colorbar\":{\"outlinewidth\":0,\"ticks\":\"\"},\"colorscale\":[[0.0,\"#0d0887\"],[0.1111111111111111,\"#46039f\"],[0.2222222222222222,\"#7201a8\"],[0.3333333333333333,\"#9c179e\"],[0.4444444444444444,\"#bd3786\"],[0.5555555555555556,\"#d8576b\"],[0.6666666666666666,\"#ed7953\"],[0.7777777777777778,\"#fb9f3a\"],[0.8888888888888888,\"#fdca26\"],[1.0,\"#f0f921\"]]}],\"mesh3d\":[{\"type\":\"mesh3d\",\"colorbar\":{\"outlinewidth\":0,\"ticks\":\"\"}}],\"scatter\":[{\"fillpattern\":{\"fillmode\":\"overlay\",\"size\":10,\"solidity\":0.2},\"type\":\"scatter\"}],\"parcoords\":[{\"type\":\"parcoords\",\"line\":{\"colorbar\":{\"outlinewidth\":0,\"ticks\":\"\"}}}],\"scatterpolargl\":[{\"type\":\"scatterpolargl\",\"marker\":{\"colorbar\":{\"outlinewidth\":0,\"ticks\":\"\"}}}],\"bar\":[{\"error_x\":{\"color\":\"#2a3f5f\"},\"error_y\":{\"color\":\"#2a3f5f\"},\"marker\":{\"line\":{\"color\":\"#E5ECF6\",\"width\":0.5},\"pattern\":{\"fillmode\":\"overlay\",\"size\":10,\"solidity\":0.2}},\"type\":\"bar\"}],\"scattergeo\":[{\"type\":\"scattergeo\",\"marker\":{\"colorbar\":{\"outlinewidth\":0,\"ticks\":\"\"}}}],\"scatterpolar\":[{\"type\":\"scatterpolar\",\"marker\":{\"colorbar\":{\"outlinewidth\":0,\"ticks\":\"\"}}}],\"histogram\":[{\"marker\":{\"pattern\":{\"fillmode\":\"overlay\",\"size\":10,\"solidity\":0.2}},\"type\":\"histogram\"}],\"scattergl\":[{\"type\":\"scattergl\",\"marker\":{\"colorbar\":{\"outlinewidth\":0,\"ticks\":\"\"}}}],\"scatter3d\":[{\"type\":\"scatter3d\",\"line\":{\"colorbar\":{\"outlinewidth\":0,\"ticks\":\"\"}},\"marker\":{\"colorbar\":{\"outlinewidth\":0,\"ticks\":\"\"}}}],\"scattermapbox\":[{\"type\":\"scattermapbox\",\"marker\":{\"colorbar\":{\"outlinewidth\":0,\"ticks\":\"\"}}}],\"scatterternary\":[{\"type\":\"scatterternary\",\"marker\":{\"colorbar\":{\"outlinewidth\":0,\"ticks\":\"\"}}}],\"scattercarpet\":[{\"type\":\"scattercarpet\",\"marker\":{\"colorbar\":{\"outlinewidth\":0,\"ticks\":\"\"}}}],\"carpet\":[{\"aaxis\":{\"endlinecolor\":\"#2a3f5f\",\"gridcolor\":\"white\",\"linecolor\":\"white\",\"minorgridcolor\":\"white\",\"startlinecolor\":\"#2a3f5f\"},\"baxis\":{\"endlinecolor\":\"#2a3f5f\",\"gridcolor\":\"white\",\"linecolor\":\"white\",\"minorgridcolor\":\"white\",\"startlinecolor\":\"#2a3f5f\"},\"type\":\"carpet\"}],\"table\":[{\"cells\":{\"fill\":{\"color\":\"#EBF0F8\"},\"line\":{\"color\":\"white\"}},\"header\":{\"fill\":{\"color\":\"#C8D4E3\"},\"line\":{\"color\":\"white\"}},\"type\":\"table\"}],\"barpolar\":[{\"marker\":{\"line\":{\"color\":\"#E5ECF6\",\"width\":0.5},\"pattern\":{\"fillmode\":\"overlay\",\"size\":10,\"solidity\":0.2}},\"type\":\"barpolar\"}],\"pie\":[{\"automargin\":true,\"type\":\"pie\"}]},\"layout\":{\"autotypenumbers\":\"strict\",\"colorway\":[\"#636efa\",\"#EF553B\",\"#00cc96\",\"#ab63fa\",\"#FFA15A\",\"#19d3f3\",\"#FF6692\",\"#B6E880\",\"#FF97FF\",\"#FECB52\"],\"font\":{\"color\":\"#2a3f5f\"},\"hovermode\":\"closest\",\"hoverlabel\":{\"align\":\"left\"},\"paper_bgcolor\":\"white\",\"plot_bgcolor\":\"#E5ECF6\",\"polar\":{\"bgcolor\":\"#E5ECF6\",\"angularaxis\":{\"gridcolor\":\"white\",\"linecolor\":\"white\",\"ticks\":\"\"},\"radialaxis\":{\"gridcolor\":\"white\",\"linecolor\":\"white\",\"ticks\":\"\"}},\"ternary\":{\"bgcolor\":\"#E5ECF6\",\"aaxis\":{\"gridcolor\":\"white\",\"linecolor\":\"white\",\"ticks\":\"\"},\"baxis\":{\"gridcolor\":\"white\",\"linecolor\":\"white\",\"ticks\":\"\"},\"caxis\":{\"gridcolor\":\"white\",\"linecolor\":\"white\",\"ticks\":\"\"}},\"coloraxis\":{\"colorbar\":{\"outlinewidth\":0,\"ticks\":\"\"}},\"colorscale\":{\"sequential\":[[0.0,\"#0d0887\"],[0.1111111111111111,\"#46039f\"],[0.2222222222222222,\"#7201a8\"],[0.3333333333333333,\"#9c179e\"],[0.4444444444444444,\"#bd3786\"],[0.5555555555555556,\"#d8576b\"],[0.6666666666666666,\"#ed7953\"],[0.7777777777777778,\"#fb9f3a\"],[0.8888888888888888,\"#fdca26\"],[1.0,\"#f0f921\"]],\"sequentialminus\":[[0.0,\"#0d0887\"],[0.1111111111111111,\"#46039f\"],[0.2222222222222222,\"#7201a8\"],[0.3333333333333333,\"#9c179e\"],[0.4444444444444444,\"#bd3786\"],[0.5555555555555556,\"#d8576b\"],[0.6666666666666666,\"#ed7953\"],[0.7777777777777778,\"#fb9f3a\"],[0.8888888888888888,\"#fdca26\"],[1.0,\"#f0f921\"]],\"diverging\":[[0,\"#8e0152\"],[0.1,\"#c51b7d\"],[0.2,\"#de77ae\"],[0.3,\"#f1b6da\"],[0.4,\"#fde0ef\"],[0.5,\"#f7f7f7\"],[0.6,\"#e6f5d0\"],[0.7,\"#b8e186\"],[0.8,\"#7fbc41\"],[0.9,\"#4d9221\"],[1,\"#276419\"]]},\"xaxis\":{\"gridcolor\":\"white\",\"linecolor\":\"white\",\"ticks\":\"\",\"title\":{\"standoff\":15},\"zerolinecolor\":\"white\",\"automargin\":true,\"zerolinewidth\":2},\"yaxis\":{\"gridcolor\":\"white\",\"linecolor\":\"white\",\"ticks\":\"\",\"title\":{\"standoff\":15},\"zerolinecolor\":\"white\",\"automargin\":true,\"zerolinewidth\":2},\"scene\":{\"xaxis\":{\"backgroundcolor\":\"#E5ECF6\",\"gridcolor\":\"white\",\"linecolor\":\"white\",\"showbackground\":true,\"ticks\":\"\",\"zerolinecolor\":\"white\",\"gridwidth\":2},\"yaxis\":{\"backgroundcolor\":\"#E5ECF6\",\"gridcolor\":\"white\",\"linecolor\":\"white\",\"showbackground\":true,\"ticks\":\"\",\"zerolinecolor\":\"white\",\"gridwidth\":2},\"zaxis\":{\"backgroundcolor\":\"#E5ECF6\",\"gridcolor\":\"white\",\"linecolor\":\"white\",\"showbackground\":true,\"ticks\":\"\",\"zerolinecolor\":\"white\",\"gridwidth\":2}},\"shapedefaults\":{\"line\":{\"color\":\"#2a3f5f\"}},\"annotationdefaults\":{\"arrowcolor\":\"#2a3f5f\",\"arrowhead\":0,\"arrowwidth\":1},\"geo\":{\"bgcolor\":\"white\",\"landcolor\":\"#E5ECF6\",\"subunitcolor\":\"white\",\"showland\":true,\"showlakes\":true,\"lakecolor\":\"white\"},\"title\":{\"x\":0.05},\"mapbox\":{\"style\":\"light\"}}},\"xaxis\":{\"anchor\":\"y\",\"domain\":[0.0,1.0],\"range\":[\"1970-01-01T00:00:00\",\"1970-01-01T00:30:00\"],\"type\":\"date\"},\"yaxis\":{\"anchor\":\"x\",\"domain\":[0.0,1.0],\"title\":{\"text\":\"hour\"}},\"coloraxis\":{\"colorbar\":{\"title\":{\"text\":\"duration\"}},\"colorscale\":[[0.0,\"#0d0887\"],[0.1111111111111111,\"#46039f\"],[0.2222222222222222,\"#7201a8\"],[0.3333333333333333,\"#9c179e\"],[0.4444444444444444,\"#bd3786\"],[0.5555555555555556,\"#d8576b\"],[0.6666666666666666,\"#ed7953\"],[0.7777777777777778,\"#fb9f3a\"],[0.8888888888888888,\"#fdca26\"],[1.0,\"#f0f921\"]]},\"legend\":{\"tracegroupgap\":0},\"margin\":{\"t\":60},\"barmode\":\"overlay\"},                        {\"responsive\": true}                    ).then(function(){\n",
       "                            \n",
       "var gd = document.getElementById('22c76549-fe74-4b58-856b-a9fa938bfeb1');\n",
       "var x = new MutationObserver(function (mutations, observer) {{\n",
       "        var display = window.getComputedStyle(gd).display;\n",
       "        if (!display || display === 'none') {{\n",
       "            console.log([gd, 'removed!']);\n",
       "            Plotly.purge(gd);\n",
       "            observer.disconnect();\n",
       "        }}\n",
       "}});\n",
       "\n",
       "// Listen for the removal of the full notebook cells\n",
       "var notebookContainer = gd.closest('#notebook-container');\n",
       "if (notebookContainer) {{\n",
       "    x.observe(notebookContainer, {childList: true});\n",
       "}}\n",
       "\n",
       "// Listen for the clearing of the current output cell\n",
       "var outputEl = gd.closest('.output');\n",
       "if (outputEl) {{\n",
       "    x.observe(outputEl, {childList: true});\n",
       "}}\n",
       "\n",
       "                        })                };                });            </script>        </div>"
      ]
     },
     "metadata": {},
     "output_type": "display_data"
    }
   ],
   "source": [
    "\n",
    "import plotly.express as px\n",
    "from loguru import logger\n",
    "import pandas as pd\n",
    "\n",
    "def dt(ts):\n",
    "      return pd.to_datetime(ts, unit='s')\n",
    "\n",
    "\n",
    "def get_sections(max_section_width):    \n",
    "    sects =  [\n",
    "        dict(start=0, end=30, id=1, hour=99),\n",
    "        dict(start=30, end=150, id=2, hour=99),\n",
    "        dict(start=150, end=180, id=3, hour=99),\n",
    "        dict(start=180, end=210, id=4, hour=99),\n",
    "        dict(start=210, end=260, id=5, hour=99),\n",
    "        dict(start=260, end=280, id=6, hour=99),\n",
    "        dict(start=340, end=500, id=7, hour=99),\n",
    "        dict(start=500, end=510, id=8, hour=99),\n",
    "        dict(start=510, end=560, id=9, hour=99),\n",
    "        dict(start=640, end=700, id=10, hour=99),\n",
    "        dict(start=700, end=849, id=15, hour=99),\n",
    "        dict(start=849, end=890, id=11, hour=99),\n",
    "        dict(start=976, end=1000, id=12, hour=99),\n",
    "        dict(start=1000, end=1168, id=13, hour=99),\n",
    "        dict(start=1168, end=1199, id=14, hour=99),\n",
    "        dict(start=280, end=340, id=16, hour=99),\n",
    "        dict(start=560, end=640, id=17, hour=99),\n",
    "        dict(start=890, end=976, id=18, hour=99),\n",
    "        dict(start=2294, end=2510, id=19, hour=99)\n",
    "    ]\n",
    "\n",
    "    graph_sections = []\n",
    "    for sect in sects:\n",
    "      start_row = sect['start'] // max_section_width\n",
    "      end_row = sect['end'] // max_section_width\n",
    "      start_string = f\"{str(sect['start'] // 60).zfill(2)}:{str(sect['start'] % 60).zfill(2)} ({sect['start']})\"\n",
    "      end_string = f\"{str(sect['end'] // 60).zfill(2)}:{str(sect['end'] % 60).zfill(2)} ({sect['end']})\"\n",
    "      logger.debug(f\"Calulated start and end rows for ID: {sect['id']} {start_row},{end_row}\")\n",
    "      if start_row == end_row:\n",
    "            logger.debug(f\"Start row and End Row are equal ID: {sect['id']} {start_row},{end_row}\")\n",
    "            sect['start_ts'] = dt(sect[\"start\"] - (max_section_width * start_row))\n",
    "            sect['end_ts'] = dt(sect['end'] - (max_section_width * end_row))\n",
    "            sect['hour'] = -start_row\n",
    "            sect['duration'] = sect['end'] - sect['start']\n",
    "            sect['start_string'] = start_string\n",
    "            sect['end_string'] = end_string\n",
    "            graph_sections.append(sect)\n",
    "      else:\n",
    "            logger.debug(f\"Start row and End Row are not equal for id {sect['id']} {start_row},{end_row}\")\n",
    "            section1 = dict(start=sect['start'], end=max_section_width, id=sect['id'], hour=-start_row)\n",
    "            section1['start_ts'] = dt(sect[\"start\"] - (max_section_width * start_row))\n",
    "            section1['end_ts'] = dt(max_section_width)\n",
    "            section1['hour'] = -start_row\n",
    "            \n",
    "            section2 = dict(start=0, end=sect['end'] - (max_section_width * end_row), id=sect['id'], hour=-end_row)\n",
    "            section2['start_ts'] = dt(0)\n",
    "            section2['end_ts'] = dt(sect['end'] - (max_section_width * end_row))\n",
    "            section2['hour'] = -end_row\n",
    "            section2['duration'] = section2['end']\n",
    "            \n",
    "            logger.debug(f\"New Section1 {section1}\")\n",
    "            logger.debug(f\"New Section2 {section2}\")\n",
    "            \n",
    "            section1['start_string'] = start_string\n",
    "            section1['end_string'] = end_string\n",
    "            section2['start_string'] = start_string\n",
    "            section2['end_string'] = end_string\n",
    "            section1['duration'] = sect['end'] - sect['start']\n",
    "            section2['duration'] = section1['duration']\n",
    "            graph_sections.append(section1)\n",
    "            graph_sections.append(section2)\n",
    "\n",
    "\n",
    "\n",
    "                  \n",
    "                  \n",
    "                  \n",
    "                  \n",
    "                  \n",
    "\n",
    "    return graph_sections\n",
    "\n",
    "\n",
    "\n",
    "\n",
    "MAX = 1800\n",
    "sections = get_sections(max_section_width=MAX)\n",
    "fig = px.timeline(sections, x_start=\"start_ts\", x_end=\"end_ts\", y=\"hour\", \n",
    "                  range_x=[dt(0), dt(MAX)], color=\"duration\", hover_name=\"id\", \n",
    "                  hover_data={\"start_string\": True, \"end_string\": True, \"id\": False, \"hour\": False, \"duration\": True, \"start\": False, \"end\": False, \"start_ts\": False, \"end_ts\": False})\n",
    "fig.show()"
   ]
  }
 ],
 "metadata": {
  "kernelspec": {
   "display_name": ".venv",
   "language": "python",
   "name": "python3"
  },
  "language_info": {
   "codemirror_mode": {
    "name": "ipython",
    "version": 3
   },
   "file_extension": ".py",
   "mimetype": "text/x-python",
   "name": "python",
   "nbconvert_exporter": "python",
   "pygments_lexer": "ipython3",
   "version": "3.12.3"
  }
 },
 "nbformat": 4,
 "nbformat_minor": 2
}
